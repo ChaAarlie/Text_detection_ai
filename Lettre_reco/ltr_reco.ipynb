{
 "cells": [
  {
   "cell_type": "code",
   "execution_count": 26,
   "metadata": {},
   "outputs": [
    {
     "name": "stdout",
     "output_type": "stream",
     "text": [
      "Requirement already satisfied: keras in /home/max/.local/lib/python3.8/site-packages (2.4.3)\n",
      "Requirement already satisfied: pyyaml in /usr/lib64/python3.8/site-packages (from keras) (5.3.1)\n",
      "Requirement already satisfied: scipy>=0.14 in /home/max/.local/lib/python3.8/site-packages (from keras) (1.5.2)\n",
      "Requirement already satisfied: h5py in /usr/local/lib64/python3.8/site-packages (from keras) (2.10.0)\n",
      "Requirement already satisfied: numpy>=1.9.1 in /usr/local/lib64/python3.8/site-packages (from keras) (1.18.5)\n",
      "Requirement already satisfied: six in /usr/lib/python3.8/site-packages (from h5py->keras) (1.14.0)\n"
     ]
    }
   ],
   "source": [
    "!pip3 install keras --user\n",
    "\n",
    "import keras\n",
    "import numpy as np\n",
    "import matplotlib.pyplot as plt\n",
    "from keras.preprocessing.image import ImageDataGenerator\n",
    "from keras.preprocessing import image\n",
    "\n",
    "from keras.models import Sequential\n",
    "from keras.layers import Conv2D, MaxPooling2D, Flatten, Dense, Activation\n",
    "import os\n",
    "import pickle\n",
    "\n"
   ]
  },
  {
   "cell_type": "code",
   "execution_count": 27,
   "metadata": {},
   "outputs": [
    {
     "name": "stdout",
     "output_type": "stream",
     "text": [
      "Found 367225 images belonging to 26 classes.\n",
      "Found 5226 images belonging to 26 classes.\n"
     ]
    }
   ],
   "source": [
    "train_datagen = ImageDataGenerator(rescale = 1./255,\n",
    "                                   shear_range = 0.2,\n",
    "                                   zoom_range = 0.2,\n",
    "                                   horizontal_flip = True)\n",
    "\n",
    "test_datagen = ImageDataGenerator(rescale = 1./255)\n",
    "\n",
    "train_generator = train_datagen.flow_from_directory(\n",
    "    directory = '/home/max/Documents/AI/ocr2/Training',\n",
    "    target_size = (32,32),\n",
    "    batch_size = 32,\n",
    "    class_mode = 'categorical'\n",
    "\n",
    ")\n",
    "\n",
    "test_generator = test_datagen.flow_from_directory(\n",
    "    directory = '/home/max/Documents/AI/ocr2/Test',\n",
    "    target_size = (32,32),\n",
    "    batch_size = 32,\n",
    "    class_mode = 'categorical'\n",
    "\n",
    ")\n",
    "\n"
   ]
  },
  {
   "cell_type": "code",
   "execution_count": 28,
   "metadata": {},
   "outputs": [
    {
     "name": "stdout",
     "output_type": "stream",
     "text": [
      "Model: \"sequential_2\"\n",
      "_________________________________________________________________\n",
      "Layer (type)                 Output Shape              Param #   \n",
      "=================================================================\n",
      "conv2d_4 (Conv2D)            (None, 30, 30, 32)        896       \n",
      "_________________________________________________________________\n",
      "max_pooling2d_4 (MaxPooling2 (None, 15, 15, 32)        0         \n",
      "_________________________________________________________________\n",
      "conv2d_5 (Conv2D)            (None, 13, 13, 32)        9248      \n",
      "_________________________________________________________________\n",
      "max_pooling2d_5 (MaxPooling2 (None, 6, 6, 32)          0         \n",
      "_________________________________________________________________\n",
      "flatten_2 (Flatten)          (None, 1152)              0         \n",
      "_________________________________________________________________\n",
      "dense_4 (Dense)              (None, 128)               147584    \n",
      "_________________________________________________________________\n",
      "dense_5 (Dense)              (None, 26)                3354      \n",
      "=================================================================\n",
      "Total params: 161,082\n",
      "Trainable params: 161,082\n",
      "Non-trainable params: 0\n",
      "_________________________________________________________________\n"
     ]
    }
   ],
   "source": [
    "model = Sequential()\n",
    "model.add(Conv2D(32, (3, 3), input_shape = (32,32,3), activation = 'relu'))\n",
    "model.add(MaxPooling2D(pool_size = (2, 2)))\n",
    "\n",
    "\n",
    "model.add(Conv2D(32, (3, 3), activation = 'relu'))\n",
    "model.add(MaxPooling2D(pool_size = (2, 2)))\n",
    "\n",
    "model.add(Flatten())\n",
    "model.add(Dense(units = 128, activation = 'relu'))\n",
    "model.add(Dense(units = 26, activation = 'softmax'))\n",
    "\n",
    "\n",
    "model.compile(optimizer = 'adam', loss = 'categorical_crossentropy', metrics = ['accuracy'])\n",
    "\n",
    "model.summary()"
   ]
  },
  {
   "cell_type": "code",
   "execution_count": 43,
   "metadata": {},
   "outputs": [
    {
     "name": "stdout",
     "output_type": "stream",
     "text": [
      "Epoch 1/50\n",
      "16/16 [==============================] - 2s 108ms/step - loss: 0.5057 - accuracy: 0.8457 - val_loss: 0.7060 - val_accuracy: 0.7793\n",
      "Epoch 2/50\n",
      "16/16 [==============================] - 1s 68ms/step - loss: 0.4785 - accuracy: 0.8594 - val_loss: 0.7138 - val_accuracy: 0.7734\n",
      "Epoch 3/50\n",
      "16/16 [==============================] - 1s 62ms/step - loss: 0.5340 - accuracy: 0.8340 - val_loss: 0.6814 - val_accuracy: 0.7891\n",
      "Epoch 4/50\n",
      "16/16 [==============================] - 1s 54ms/step - loss: 0.4982 - accuracy: 0.8457 - val_loss: 0.6738 - val_accuracy: 0.7969\n",
      "Epoch 5/50\n",
      "16/16 [==============================] - 1s 50ms/step - loss: 0.5322 - accuracy: 0.8438 - val_loss: 0.6713 - val_accuracy: 0.8086\n",
      "Epoch 6/50\n",
      "16/16 [==============================] - 1s 52ms/step - loss: 0.4677 - accuracy: 0.8652 - val_loss: 0.6879 - val_accuracy: 0.7930\n",
      "Epoch 7/50\n",
      "16/16 [==============================] - 1s 49ms/step - loss: 0.4702 - accuracy: 0.8535 - val_loss: 0.7649 - val_accuracy: 0.7852\n",
      "Epoch 8/50\n",
      "16/16 [==============================] - 1s 47ms/step - loss: 0.4692 - accuracy: 0.8535 - val_loss: 0.5870 - val_accuracy: 0.8301\n",
      "Epoch 9/50\n",
      "16/16 [==============================] - 1s 67ms/step - loss: 0.3828 - accuracy: 0.8926 - val_loss: 0.5900 - val_accuracy: 0.8301\n",
      "Epoch 10/50\n",
      "16/16 [==============================] - 1s 54ms/step - loss: 0.4328 - accuracy: 0.8691 - val_loss: 0.6830 - val_accuracy: 0.7988\n",
      "Epoch 11/50\n",
      "16/16 [==============================] - 1s 52ms/step - loss: 0.4693 - accuracy: 0.8633 - val_loss: 0.6170 - val_accuracy: 0.8027\n",
      "Epoch 12/50\n",
      "16/16 [==============================] - 1s 45ms/step - loss: 0.4427 - accuracy: 0.8789 - val_loss: 0.6541 - val_accuracy: 0.8125\n",
      "Epoch 13/50\n",
      "16/16 [==============================] - 1s 45ms/step - loss: 0.3393 - accuracy: 0.9141 - val_loss: 0.5956 - val_accuracy: 0.8320\n",
      "Epoch 14/50\n",
      "16/16 [==============================] - 1s 58ms/step - loss: 0.4205 - accuracy: 0.8828 - val_loss: 0.5882 - val_accuracy: 0.8535\n",
      "Epoch 15/50\n",
      "16/16 [==============================] - 1s 61ms/step - loss: 0.4693 - accuracy: 0.8516 - val_loss: 0.4723 - val_accuracy: 0.8613\n",
      "Epoch 16/50\n",
      "16/16 [==============================] - 1s 87ms/step - loss: 0.4621 - accuracy: 0.8535 - val_loss: 0.5269 - val_accuracy: 0.8496\n",
      "Epoch 17/50\n",
      "16/16 [==============================] - 1s 83ms/step - loss: 0.3798 - accuracy: 0.8965 - val_loss: 0.5268 - val_accuracy: 0.8340\n",
      "Epoch 18/50\n",
      "16/16 [==============================] - 1s 66ms/step - loss: 0.3603 - accuracy: 0.8574 - val_loss: 0.5152 - val_accuracy: 0.8457\n",
      "Epoch 19/50\n",
      "16/16 [==============================] - 1s 52ms/step - loss: 0.4817 - accuracy: 0.8672 - val_loss: 0.4490 - val_accuracy: 0.8438\n",
      "Epoch 20/50\n",
      "16/16 [==============================] - 1s 57ms/step - loss: 0.3678 - accuracy: 0.8828 - val_loss: 0.5193 - val_accuracy: 0.8477\n",
      "Epoch 21/50\n",
      "16/16 [==============================] - 1s 54ms/step - loss: 0.4240 - accuracy: 0.8789 - val_loss: 0.5551 - val_accuracy: 0.8379\n",
      "Epoch 22/50\n",
      "16/16 [==============================] - 1s 47ms/step - loss: 0.3623 - accuracy: 0.8984 - val_loss: 0.4617 - val_accuracy: 0.8496\n",
      "Epoch 23/50\n",
      "16/16 [==============================] - 1s 46ms/step - loss: 0.3310 - accuracy: 0.8984 - val_loss: 0.5058 - val_accuracy: 0.8418\n",
      "Epoch 24/50\n",
      "16/16 [==============================] - 1s 44ms/step - loss: 0.3628 - accuracy: 0.8926 - val_loss: 0.6316 - val_accuracy: 0.8262\n",
      "Epoch 25/50\n",
      "16/16 [==============================] - 1s 43ms/step - loss: 0.3798 - accuracy: 0.8906 - val_loss: 0.5844 - val_accuracy: 0.8203\n",
      "Epoch 26/50\n",
      "16/16 [==============================] - 1s 43ms/step - loss: 0.4655 - accuracy: 0.8750 - val_loss: 0.5513 - val_accuracy: 0.8477\n",
      "Epoch 27/50\n",
      "16/16 [==============================] - 1s 51ms/step - loss: 0.3247 - accuracy: 0.9141 - val_loss: 0.5475 - val_accuracy: 0.8477\n",
      "Epoch 28/50\n",
      "16/16 [==============================] - 1s 48ms/step - loss: 0.3189 - accuracy: 0.8906 - val_loss: 0.5077 - val_accuracy: 0.8438\n",
      "Epoch 29/50\n",
      "16/16 [==============================] - 1s 43ms/step - loss: 0.2914 - accuracy: 0.9062 - val_loss: 0.5117 - val_accuracy: 0.8730\n",
      "Epoch 30/50\n",
      "16/16 [==============================] - 1s 42ms/step - loss: 0.3233 - accuracy: 0.8984 - val_loss: 0.6084 - val_accuracy: 0.8340\n",
      "Epoch 31/50\n",
      "16/16 [==============================] - 1s 43ms/step - loss: 0.3444 - accuracy: 0.8965 - val_loss: 0.6029 - val_accuracy: 0.8164\n",
      "Epoch 32/50\n",
      "16/16 [==============================] - 1s 58ms/step - loss: 0.3312 - accuracy: 0.9004 - val_loss: 0.6093 - val_accuracy: 0.8359\n",
      "Epoch 33/50\n",
      "16/16 [==============================] - 1s 42ms/step - loss: 0.3071 - accuracy: 0.9062 - val_loss: 0.5116 - val_accuracy: 0.8359\n",
      "Epoch 34/50\n",
      "16/16 [==============================] - 1s 48ms/step - loss: 0.3664 - accuracy: 0.8945 - val_loss: 0.4308 - val_accuracy: 0.8730\n",
      "Epoch 35/50\n",
      "16/16 [==============================] - 1s 40ms/step - loss: 0.3315 - accuracy: 0.9043 - val_loss: 0.4424 - val_accuracy: 0.8691\n",
      "Epoch 36/50\n",
      "16/16 [==============================] - 1s 39ms/step - loss: 0.3596 - accuracy: 0.8945 - val_loss: 0.5297 - val_accuracy: 0.8477\n",
      "Epoch 37/50\n",
      "16/16 [==============================] - 1s 41ms/step - loss: 0.4068 - accuracy: 0.8770 - val_loss: 0.4741 - val_accuracy: 0.8672\n",
      "Epoch 38/50\n",
      "16/16 [==============================] - 1s 37ms/step - loss: 0.3351 - accuracy: 0.9062 - val_loss: 0.5131 - val_accuracy: 0.8418\n",
      "Epoch 39/50\n",
      "16/16 [==============================] - 1s 44ms/step - loss: 0.3332 - accuracy: 0.8965 - val_loss: 0.5230 - val_accuracy: 0.8418\n",
      "Epoch 40/50\n",
      "16/16 [==============================] - 1s 42ms/step - loss: 0.3389 - accuracy: 0.8906 - val_loss: 0.5359 - val_accuracy: 0.8457\n",
      "Epoch 41/50\n",
      "16/16 [==============================] - 1s 40ms/step - loss: 0.3837 - accuracy: 0.8906 - val_loss: 0.4760 - val_accuracy: 0.8711\n",
      "Epoch 42/50\n",
      "16/16 [==============================] - 1s 41ms/step - loss: 0.3554 - accuracy: 0.8945 - val_loss: 0.4663 - val_accuracy: 0.8672\n",
      "Epoch 43/50\n",
      "16/16 [==============================] - 1s 42ms/step - loss: 0.3256 - accuracy: 0.8965 - val_loss: 0.3721 - val_accuracy: 0.8848\n",
      "Epoch 44/50\n",
      "16/16 [==============================] - 1s 41ms/step - loss: 0.3303 - accuracy: 0.9141 - val_loss: 0.4716 - val_accuracy: 0.8594\n",
      "Epoch 45/50\n",
      "16/16 [==============================] - 1s 40ms/step - loss: 0.3037 - accuracy: 0.9102 - val_loss: 0.3997 - val_accuracy: 0.8906\n",
      "Epoch 46/50\n",
      "16/16 [==============================] - 1s 42ms/step - loss: 0.3054 - accuracy: 0.9004 - val_loss: 0.3764 - val_accuracy: 0.8848\n",
      "Epoch 47/50\n",
      "16/16 [==============================] - 1s 41ms/step - loss: 0.2703 - accuracy: 0.9141 - val_loss: 0.4508 - val_accuracy: 0.8848\n",
      "Epoch 48/50\n",
      "16/16 [==============================] - 1s 38ms/step - loss: 0.2690 - accuracy: 0.9297 - val_loss: 0.4679 - val_accuracy: 0.8594\n",
      "Epoch 49/50\n",
      "16/16 [==============================] - 1s 40ms/step - loss: 0.3368 - accuracy: 0.9004 - val_loss: 0.4397 - val_accuracy: 0.8613\n",
      "Epoch 50/50\n",
      "16/16 [==============================] - 1s 45ms/step - loss: 0.3269 - accuracy: 0.8965 - val_loss: 0.4025 - val_accuracy: 0.8613\n"
     ]
    }
   ],
   "source": [
    "history = model.fit_generator(train_generator,\n",
    "                         steps_per_epoch = 16,\n",
    "                         epochs = 50,\n",
    "                         validation_data = test_generator,\n",
    "                         validation_steps = 16)"
   ]
  },
  {
   "cell_type": "code",
   "execution_count": 49,
   "metadata": {},
   "outputs": [],
   "source": [
    "#ascii !!\n",
    "def get_result(result):\n",
    "    if result[0][0] == 1:\n",
    "        return('a')\n",
    "    elif result[0][1] == 1:\n",
    "        return ('b')\n",
    "    elif result[0][2] == 1:\n",
    "        return ('c')\n",
    "    elif result[0][3] == 1:\n",
    "        return ('d')\n",
    "    elif result[0][4] == 1:\n",
    "        return ('e')\n",
    "    elif result[0][5] == 1:\n",
    "        return ('f')\n",
    "    elif result[0][6] == 1:\n",
    "        return ('g')\n",
    "    elif result[0][7] == 1:\n",
    "        return ('h')\n",
    "    elif result[0][8] == 1:\n",
    "        return ('i')\n",
    "    elif result[0][9] == 1:\n",
    "        return ('j')\n",
    "    elif result[0][10] == 1:\n",
    "        return ('k')\n",
    "    elif result[0][11] == 1:\n",
    "        return ('l')\n",
    "    elif result[0][12] == 1:\n",
    "        return ('m')\n",
    "    elif result[0][13] == 1:\n",
    "        return ('n')\n",
    "    elif result[0][14] == 1:\n",
    "        return ('o')\n",
    "    elif result[0][15] == 1:\n",
    "        return ('p')\n",
    "    elif result[0][16] == 1:\n",
    "        return ('q')\n",
    "    elif result[0][17] == 1:\n",
    "        return ('r')\n",
    "    elif result[0][18] == 1:\n",
    "        return ('s')\n",
    "    elif result[0][19] == 1:\n",
    "        return ('t')\n",
    "    elif result[0][20] == 1:\n",
    "        return ('u')\n",
    "    elif result[0][21] == 1:\n",
    "        return ('v')\n",
    "    elif result[0][22] == 1:\n",
    "        return ('w')\n",
    "    elif result[0][23] == 1:\n",
    "        return ('x')\n",
    "    elif result[0][24] == 1:\n",
    "        return ('y')\n",
    "    elif result[0][25] == 1:\n",
    "        return ('z')"
   ]
  },
  {
   "cell_type": "code",
   "execution_count": 52,
   "metadata": {},
   "outputs": [
    {
     "data": {
      "image/png": "[encoded data removed]",
      "text/plain": [
       "<Figure size 432x288 with 1 Axes>"
      ]
     },
     "metadata": {
      "needs_background": "light"
     },
     "output_type": "display_data"
    }
   ],
   "source": [
    "filename = '/home/max/Documents/AI/ocr2/Test/a.png'\n",
    "test_image = image.load_img(filename, target_size = (32,32))\n",
    "plt.imshow(test_image)\n",
    "test_image = image.img_to_array(test_image)\n",
    "test_image = np.expand_dims(test_image, axis = 0)"
   ]
  },
  {
   "cell_type": "code",
   "execution_count": 53,
   "metadata": {},
   "outputs": [
    {
     "name": "stdout",
     "output_type": "stream",
     "text": [
      "Predicted Alphabet is: o\n"
     ]
    }
   ],
   "source": [
    "result = model.predict(test_image)\n",
    "result = get_result(result)\n",
    "print ('Predicted Alphabet is: {}'.format(result))"
   ]
  },
  {
   "cell_type": "code",
   "execution_count": null,
   "metadata": {},
   "outputs": [],
   "source": []
  },
  {
   "cell_type": "code",
   "execution_count": null,
   "metadata": {},
   "outputs": [],
   "source": []
  }
 ],
 "metadata": {
  "kernelspec": {
   "display_name": "Python 3",
   "language": "python",
   "name": "python3"
  },
  "language_info": {
   "codemirror_mode": {
    "name": "ipython",
    "version": 3
   },
   "file_extension": ".py",
   "mimetype": "text/x-python",
   "name": "python",
   "nbconvert_exporter": "python",
   "pygments_lexer": "ipython3",
   "version": "3.8.5"
  }
 },
 "nbformat": 4,
 "nbformat_minor": 4
}
